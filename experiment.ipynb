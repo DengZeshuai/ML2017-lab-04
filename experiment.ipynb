{
 "cells": [
  {
   "cell_type": "code",
   "execution_count": 3,
   "metadata": {},
   "outputs": [],
   "source": [
    "# write your code here\n",
    "import numpy as np\n",
    "import sklearn.datasets\n",
    "import pandas as pd\n",
    "import matplotlib.pyplot as plt\n",
    "\n",
    "\n",
    "class Recommendation:\n",
    "    def __init__(self,user_number, item_number, k):\n",
    "        self.P = np.random.rand(user_number,k)\n",
    "        self.Q = np.random.rand(k, item_number)\n",
    "        self.loss_in_train = []\n",
    "    \n",
    "    #use ALS to train the matrix P and Q\n",
    "    def train(self, R_train, R_test, beta=0.1 ,k=100,epoch=2):\n",
    "        for e in range(epoch):\n",
    "            for u in range(R_train.shape[0]):\n",
    "                for i in range(R_train.shape[1]):\n",
    "                    if R_train[u][i] > 0:\n",
    "                        error = R_train[u][i] - np.dot(self.P[u,:], self.Q[:,i])\n",
    "                        # print(error)\n",
    "                        # updata matrix P and Q\n",
    "                        self.P[u,:] = (error*self.Q[:,i]/k/beta).transpose()\n",
    "                        self.Q[:,i] = (error*self.P[u,:]/k/beta).transpose()\n",
    "                        # print(self.P[u,:],self.Q[:,i])\n",
    "                        if i%100==0 and u%10==0:\n",
    "                            loss = self.loss(R_test,beta)\n",
    "                            self.loss_in_train.append(loss)\n",
    "        return self.loss_in_train\n",
    "    \n",
    "    #use SGD optimizer to optimize the method\n",
    "    def train_SGD(self,R_train, R_test, beta=0.09,learning_rate=0.001,epoch=100):\n",
    "        for step in range (epoch):\n",
    "            #train the matrix Pand Q\n",
    "            for u in range (R_train.shape[0]):\n",
    "                for i in range (R_train.shape[1]):\n",
    "                    if R_train[u][i] > 0:\n",
    "                        error = R_train[u][i]-np.dot(self.P[u,:],self.Q[:,i])\n",
    "                        self.P[u,:] += learning_rate*error*self.Q[:,i] - beta*self.P[u]   # update P_i\n",
    "                        self.Q[:,i] += learning_rate*error*self.P[u,:] - beta*self.Q[:,i] # update Q_j\n",
    "                        \n",
    "                        if i%100==0 and u%10==0:\n",
    "                            loss = self.loss(R_test,beta)\n",
    "                            self.loss_in_train.append(loss)\n",
    "        return self.loss_in_train\n",
    "\n",
    "    def loss(self, R_test, beta=0.9):\n",
    "        test_loss = 0.5 * np.sum(np.power(R_test-np.dot(self.P,self.Q),2))/R_test.size + \\\n",
    "                        0.5*beta*(np.sum(np.power(self.P,2))+np.sum(np.power(self.Q,2)))/self.P.shape[1]\n",
    "        return test_loss\n",
    "\n",
    "    def predict(self):\n",
    "        return self.P.dot(self.Q)"
   ]
  },
  {
   "cell_type": "code",
   "execution_count": 4,
   "metadata": {
    "collapsed": true
   },
   "outputs": [],
   "source": [
    "# load the data to ndarray\n",
    "def load_data(file,user_number, item_number):\n",
    "    samples = pd.read_table(file,names=['user','item','rating'],usecols=[0,1,2])\n",
    "    samples = samples.pivot(index='user',columns='item',values='rating').fillna(0)    \n",
    "\n",
    "    R = pd.DataFrame(np.zeros((user_number, item_number)),index=range(1,user_number+1),columns=range(1,item_number+1))\n",
    "    R = R.add(samples).fillna(0)\n",
    "    return R.as_matrix()\n",
    "\n",
    "# plot the loss in the train\n",
    "def plot(test_loss):\n",
    "    plt.xlabel('Iteration')\n",
    "    plt.ylabel('loss')\n",
    "    plt.plot(test_loss, label=\"test_loss\",linewidth=1.5)\n",
    "    plt.legend(loc='upper right')\n",
    "    plt.show()"
   ]
  },
  {
   "cell_type": "code",
   "execution_count": 14,
   "metadata": {
    "collapsed": true
   },
   "outputs": [],
   "source": [
    "def main(train_file, test_file, k, beta, user_number, item_number, learning_rate=0.01, epoch=10):\n",
    "    R_train = load_data(train_file,user_number,item_number)\n",
    "    R_test = load_data(test_file,user_number,item_number)\n",
    "\n",
    "    model = Recommendation(user_number,item_number,k)\n",
    "    test_loss = model.train(R_train, R_test, beta=beta, k=k,epoch=epoch) # train use ALS\n",
    "    # test_loss = model.train_SGD(R_train, R_test, beta=beta, learning_rate=learning_rate, epoch=epoch)\n",
    "    plot(test_loss)"
   ]
  },
  {
   "cell_type": "code",
   "execution_count": 16,
   "metadata": {},
   "outputs": [
    {
     "data": {
      "image/png": "[encoded data removed]",
      "text/plain": [
       "<matplotlib.figure.Figure at 0x20c3173f390>"
      ]
     },
     "metadata": {},
     "output_type": "display_data"
    }
   ],
   "source": [
    "# parameters use to train with \n",
    "params = {\n",
    "    \"train_file\": \"./ml-100k/u2.base\",\n",
    "    \"test_file\": \"./ml-100k/u2.test\",\n",
    "    \"k\": 150,\n",
    "    \"beta\": 1,\n",
    "    \"user_number\": 943,\n",
    "    \"item_number\": 1682,\n",
    "    \"learning_rate\": 0.0001,\n",
    "    \"epoch\": 2\n",
    "}\n",
    "main(**params)"
   ]
  },
  {
   "cell_type": "code",
   "execution_count": 18,
   "metadata": {},
   "outputs": [
    {
     "data": {
      "image/png": "[encoded data removed]",
      "text/plain": [
       "<matplotlib.figure.Figure at 0x20c317b9320>"
      ]
     },
     "metadata": {},
     "output_type": "display_data"
    }
   ],
   "source": [
    "def main(train_file, test_file, k, beta, user_number, item_number, learning_rate=0.01, epoch=10):\n",
    "    R_train = load_data(train_file,user_number,item_number)\n",
    "    R_test = load_data(test_file,user_number,item_number)\n",
    "\n",
    "    model = Recommendation(user_number,item_number,k)\n",
    "    # test_loss = model.train(R_train, R_test, beta=beta, k=k,epoch=epoch) # train use ALS\n",
    "    test_loss = model.train_SGD(R_train, R_test, beta=beta, learning_rate=learning_rate, epoch=epoch)  # train with SGD optimizer\n",
    "    plot(test_loss)\n",
    "    \n",
    "    \n",
    "# parameters use to train\n",
    "params = {\n",
    "    \"train_file\": \"./ml-100k/u2.base\",\n",
    "    \"test_file\": \"./ml-100k/u2.test\",\n",
    "    \"k\": 150,\n",
    "    \"beta\": 1,\n",
    "    \"user_number\": 943,\n",
    "    \"item_number\": 1682,\n",
    "    \"learning_rate\": 0.0001,\n",
    "    \"epoch\": 5\n",
    "}\n",
    "main(**params)"
   ]
  },
  {
   "cell_type": "code",
   "execution_count": null,
   "metadata": {
    "collapsed": true
   },
   "outputs": [],
   "source": []
  }
 ],
 "metadata": {
  "kernelspec": {
   "display_name": "Python 3",
   "language": "python",
   "name": "python3"
  },
  "language_info": {
   "codemirror_mode": {
    "name": "ipython",
    "version": 3
   },
   "file_extension": ".py",
   "mimetype": "text/x-python",
   "name": "python",
   "nbconvert_exporter": "python",
   "pygments_lexer": "ipython3",
   "version": "3.6.2rc2"
  }
 },
 "nbformat": 4,
 "nbformat_minor": 2
}
